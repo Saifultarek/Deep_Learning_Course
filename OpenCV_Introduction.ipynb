{
  "cells": [
    {
      "cell_type": "code",
      "execution_count": null,
      "metadata": {
        "id": "pQY6NeUCC9a8"
      },
      "outputs": [],
      "source": [
        "#!pip install python-opencv / opencv-python"
      ]
    },
    {
      "cell_type": "code",
      "execution_count": null,
      "metadata": {
        "id": "8ZoIPkdCC9a9"
      },
      "outputs": [],
      "source": [
        "import cv2"
      ]
    },
    {
      "cell_type": "code",
      "execution_count": null,
      "metadata": {
        "id": "ks0tqQfpC9a9",
        "outputId": "93552aab-8a65-4497-9ada-55a47f748fe0"
      },
      "outputs": [
        {
          "data": {
            "text/plain": [
              "'4.8.1'"
            ]
          },
          "execution_count": 13,
          "metadata": {},
          "output_type": "execute_result"
        }
      ],
      "source": [
        "cv2.__version__"
      ]
    },
    {
      "cell_type": "code",
      "execution_count": null,
      "metadata": {
        "id": "S0a7AYFjC9a-"
      },
      "outputs": [],
      "source": [
        "#Image Read\n",
        "imagedata = cv2.imread(\"./Cats.jpg\")"
      ]
    },
    {
      "cell_type": "code",
      "execution_count": null,
      "metadata": {
        "id": "mUpCW4GPC9a-"
      },
      "outputs": [],
      "source": [
        "#print(imagedata)"
      ]
    },
    {
      "cell_type": "code",
      "execution_count": null,
      "metadata": {
        "id": "g3n0JxISC9a-",
        "outputId": "e30e12d3-9582-45fb-b654-200476df314a"
      },
      "outputs": [
        {
          "name": "stdout",
          "output_type": "stream",
          "text": [
            "<class 'numpy.ndarray'>\n"
          ]
        }
      ],
      "source": [
        "print(type(imagedata))"
      ]
    },
    {
      "cell_type": "code",
      "execution_count": null,
      "metadata": {
        "id": "l0bT_d8SC9a-",
        "outputId": "9a4443cf-d082-435f-e631-6aa395e7d346"
      },
      "outputs": [
        {
          "data": {
            "text/plain": [
              "(698, 606, 3)"
            ]
          },
          "execution_count": 17,
          "metadata": {},
          "output_type": "execute_result"
        }
      ],
      "source": [
        "imagedata.shape"
      ]
    },
    {
      "cell_type": "code",
      "execution_count": null,
      "metadata": {
        "id": "dCWr_pxPC9a_",
        "outputId": "b8772916-5a29-490a-fd03-d4ed0844a67f"
      },
      "outputs": [
        {
          "data": {
            "text/plain": [
              "241"
            ]
          },
          "execution_count": 18,
          "metadata": {},
          "output_type": "execute_result"
        }
      ],
      "source": [
        "max(imagedata[0][0])"
      ]
    },
    {
      "cell_type": "code",
      "execution_count": null,
      "metadata": {
        "id": "MQHfwFPbC9a_"
      },
      "outputs": [],
      "source": [
        "cv2.imshow(\"Cat Image\",imagedata)\n",
        "cv2.waitKey(0)\n",
        "cv2.destroyAllWindows()"
      ]
    },
    {
      "cell_type": "code",
      "execution_count": null,
      "metadata": {
        "id": "gpwnAwx2C9a_",
        "outputId": "ea1cfe1f-e277-4d10-9c75-4291bf0d5016"
      },
      "outputs": [
        {
          "name": "stdout",
          "output_type": "stream",
          "text": [
            "Image datasets shape with RGB:  (698, 606, 3)\n",
            "Image datasets shape with RGB:  (698, 606)\n"
          ]
        }
      ],
      "source": [
        "imagedatasets = cv2.imread(\"./Cats.jpg\")\n",
        "print(\"Image datasets shape with RGB: \", imagedatasets.shape)\n",
        "convertBGRimageTOgrayscalle = cv2.cvtColor(imagedatasets, cv2.COLOR_BGR2GRAY)\n",
        "print(\"Image datasets shape with RGB: \", convertBGRimageTOgrayscalle.shape)\n",
        "cv2.imshow(\"Color Conversion Form BGR to Gray\",imagedata)\n",
        "cv2.waitKey(0)\n",
        "cv2.destroyAllWindows()"
      ]
    },
    {
      "cell_type": "code",
      "execution_count": null,
      "metadata": {
        "id": "Y8jwmctLC9a_",
        "outputId": "50deaf58-dd26-493e-eb0a-14a6fe4cc177"
      },
      "outputs": [
        {
          "data": {
            "text/plain": [
              "1268964"
            ]
          },
          "execution_count": 31,
          "metadata": {},
          "output_type": "execute_result"
        }
      ],
      "source": [
        "698*606*3"
      ]
    },
    {
      "cell_type": "code",
      "execution_count": null,
      "metadata": {
        "id": "bcpZ6JDOC9bA",
        "outputId": "7644244b-420d-4d2a-b015-c5a40d638708"
      },
      "outputs": [
        {
          "name": "stdout",
          "output_type": "stream",
          "text": [
            "Image datasets shape with RGB:  (698, 606)\n"
          ]
        }
      ],
      "source": [
        "imagedatasets = cv2.imread(\"./Cats.jpg\", cv2.IMREAD_GRAYSCALE)\n",
        "print(\"Image datasets shape with RGB: \", imagedatasets.shape)\n",
        "#convertBGRimageTOgrayscalle = cv2.cvtColor(imagedatasets, cv2.COLOR_BGR2GRAY)\n",
        "#print(\"Image datasets shape with RGB: \", convertBGRimageTOgrayscalle.shape)\n",
        "cv2.imshow(\"Color Conversion Form BGR to Gray\",imagedatasets)\n",
        "cv2.waitKey(0)\n",
        "cv2.destroyAllWindows()"
      ]
    },
    {
      "cell_type": "code",
      "execution_count": null,
      "metadata": {
        "id": "3mFkk6y-C9bA",
        "outputId": "6d6c7905-b581-424e-ac15-42fbc6731927"
      },
      "outputs": [
        {
          "name": "stdout",
          "output_type": "stream",
          "text": [
            "Image datasets shape with RGB:  (698, 606)\n"
          ]
        }
      ],
      "source": [
        "imagedatasets = cv2.imread(\"./Cats.jpg\", cv2.IMREAD_GRAYSCALE)\n",
        "print(\"Image datasets shape with RGB: \", imagedatasets.shape)\n",
        "#convertBGRimageTOgrayscalle = cv2.cvtColor(imagedatasets, cv2.COLOR_BGR2GRAY)\n",
        "#print(\"Image datasets shape with RGB: \", convertBGRimageTOgrayscalle.shape)\n",
        "cv2.imshow(\"Color Conversion Form BGR to Gray\",imagedatasets)\n",
        "cv2.waitKey(0)\n",
        "cv2.destroyAllWindows()"
      ]
    },
    {
      "cell_type": "markdown",
      "metadata": {
        "id": "AIalH9w6C9bA"
      },
      "source": [
        "## Threshold"
      ]
    },
    {
      "cell_type": "code",
      "execution_count": null,
      "metadata": {
        "id": "8NcKdRGjC9bB",
        "outputId": "f74c56e0-0cf9-4804-f2d9-68bb6866f31e"
      },
      "outputs": [
        {
          "name": "stdout",
          "output_type": "stream",
          "text": [
            "Image datasets shape with RGB:  (698, 606)\n"
          ]
        }
      ],
      "source": [
        "imagedatasets = cv2.imread(\"./Cats.jpg\", cv2.IMREAD_GRAYSCALE)\n",
        "print(\"Image datasets shape with RGB: \", imagedatasets.shape)\n",
        "_, imagethreshold = cv2.threshold(imagedatasets, 50, 200, cv2.THRESH_BINARY)\n",
        "#print(\"Image datasets shape with RGB: \", convertBGRimageTOgrayscalle.shape)\n",
        "cv2.imshow(\"Color Conversion Form BGR to Gray\",imagethreshold)\n",
        "cv2.waitKey(0)\n",
        "cv2.destroyAllWindows()"
      ]
    },
    {
      "cell_type": "code",
      "execution_count": null,
      "metadata": {
        "id": "7V65R_PhC9bB",
        "outputId": "d5c039cf-09cc-44d0-ccbd-2ea5a014e31d"
      },
      "outputs": [
        {
          "name": "stdout",
          "output_type": "stream",
          "text": [
            "Image datasets shape with RGB:  (698, 606, 3)\n"
          ]
        }
      ],
      "source": [
        "imagedatasets = cv2.imread(\"./Cats.jpg\")\n",
        "print(\"Image datasets shape with RGB: \", imagedatasets.shape)\n",
        "convertBGRimageTOgrayscalle = cv2.cvtColor(imagedatasets, cv2.COLOR_BGR2GRAY)\n",
        "imageContour, _ = cv2.findContours(convertBGRimageTOgrayscalle, cv2.RETR_EXTERNAL, cv2.CHAIN_APPROX_SIMPLE)\n",
        "cv2.drawContours(imagedatasets, imageContour, -1, (0, 255, 0), 50)\n",
        "cv2.imshow(\"Color Conversion Form BGR to Gray\",imagedatasets)\n",
        "cv2.waitKey(0)\n",
        "cv2.destroyAllWindows()"
      ]
    },
    {
      "cell_type": "code",
      "execution_count": null,
      "metadata": {
        "id": "JWsgbvcqC9bC"
      },
      "outputs": [],
      "source": []
    }
  ],
  "metadata": {
    "kernelspec": {
      "display_name": "deeplearning",
      "language": "python",
      "name": "python3"
    },
    "language_info": {
      "codemirror_mode": {
        "name": "ipython",
        "version": 3
      },
      "file_extension": ".py",
      "mimetype": "text/x-python",
      "name": "python",
      "nbconvert_exporter": "python",
      "pygments_lexer": "ipython3",
      "version": "3.7.16"
    },
    "colab": {
      "provenance": []
    }
  },
  "nbformat": 4,
  "nbformat_minor": 0
}