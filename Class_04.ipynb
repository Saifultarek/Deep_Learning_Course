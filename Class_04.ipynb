{
  "cells": [
    {
      "cell_type": "markdown",
      "metadata": {
        "id": "67sQrG3_BIjO"
      },
      "source": [
        "## Weights and Biases"
      ]
    },
    {
      "cell_type": "code",
      "execution_count": null,
      "metadata": {
        "id": "yixf1AsbBIjS",
        "outputId": "c3195f4d-4e14-46cf-8b59-23f796c1d64c"
      },
      "outputs": [
        {
          "name": "stdout",
          "output_type": "stream",
          "text": [
            "Weights:\n",
            "Parameter containing:\n",
            "tensor([[-0.0042,  0.0247, -0.0006,  0.0080, -0.0003],\n",
            "        [-0.0020, -0.0001,  0.0002, -0.0036,  0.0154],\n",
            "        [-0.0074, -0.0066,  0.0093,  0.0153, -0.0043]], requires_grad=True)\n",
            "\n",
            "Biases:\n",
            "Parameter containing:\n",
            "tensor([0., 0., 0.], requires_grad=True)\n"
          ]
        }
      ],
      "source": [
        "import torch\n",
        "import torch.nn as nn\n",
        "\n",
        "# Define a simple neural network layer\n",
        "class NeuralNetworkLayer(nn.Module):\n",
        "    def __init__(self, input_size, output_size):\n",
        "        super(NeuralNetworkLayer, self).__init__()\n",
        "        self.linear = nn.Linear(input_size, output_size)\n",
        "\n",
        "        # Initialize weights and biases\n",
        "        nn.init.normal_(self.linear.weight, mean=0, std=0.01)\n",
        "        nn.init.constant_(self.linear.bias, 0)\n",
        "\n",
        "    def forward(self, x):\n",
        "        return self.linear(x)\n",
        "\n",
        "# Create an instance of the neural network layer\n",
        "input_size = 5\n",
        "output_size = 3\n",
        "layer = NeuralNetworkLayer(input_size, output_size)\n",
        "\n",
        "# Print weights and biases\n",
        "print(\"Weights:\")\n",
        "print(layer.linear.weight)\n",
        "print(\"\\nBiases:\")\n",
        "print(layer.linear.bias)\n"
      ]
    },
    {
      "cell_type": "markdown",
      "metadata": {
        "id": "MyIQAWAkBIjU"
      },
      "source": [
        "## Feedforward and Backpropagation"
      ]
    },
    {
      "cell_type": "code",
      "execution_count": null,
      "metadata": {
        "id": "8epR9X6gBIjU",
        "outputId": "5afd846b-3d87-4f69-d512-9456092bf6c2"
      },
      "outputs": [
        {
          "name": "stdout",
          "output_type": "stream",
          "text": [
            "Epoch [10/100], Loss: 21.6823\n",
            "Epoch [20/100], Loss: 16.4696\n",
            "Epoch [30/100], Loss: 12.9896\n",
            "Epoch [40/100], Loss: 10.6663\n",
            "Epoch [50/100], Loss: 9.1153\n",
            "Epoch [60/100], Loss: 8.0798\n",
            "Epoch [70/100], Loss: 7.3885\n",
            "Epoch [80/100], Loss: 6.9270\n",
            "Epoch [90/100], Loss: 6.6188\n",
            "Epoch [100/100], Loss: 6.4131\n",
            "Feedforward Output:\n",
            "tensor([[4.3701],\n",
            "        [4.3701],\n",
            "        [4.3701]])\n",
            "Backpropagation Values:\n",
            "fc1.weight tensor([[0., 0., 0.],\n",
            "        [0., 0., 0.],\n",
            "        [0., 0., 0.],\n",
            "        [0., 0., 0.],\n",
            "        [0., 0., 0.]])\n",
            "fc1.bias tensor([0., 0., 0., 0., 0.])\n",
            "fc2.weight tensor([[0., 0., 0., 0., 0.]])\n",
            "fc2.bias tensor([-1.2855])\n"
          ]
        }
      ],
      "source": [
        "import torch\n",
        "import torch.nn as nn\n",
        "import torch.optim as optim\n",
        "\n",
        "# Define the neural network model\n",
        "class NeuralNetwork(nn.Module):\n",
        "    def __init__(self, input_size, hidden_size, output_size):\n",
        "        super(NeuralNetwork, self).__init__()\n",
        "        self.fc1 = nn.Linear(input_size, hidden_size)\n",
        "        self.relu = nn.ReLU()\n",
        "        self.fc2 = nn.Linear(hidden_size, output_size)\n",
        "\n",
        "    def forward(self, x):\n",
        "        out = self.fc1(x)\n",
        "        out = self.relu(out)\n",
        "        out = self.fc2(out)\n",
        "        return out\n",
        "\n",
        "# Define input size, hidden layer size, output size, and learning rate\n",
        "input_size = 3\n",
        "hidden_size = 5\n",
        "output_size = 1\n",
        "learning_rate = 0.01\n",
        "\n",
        "# Create the neural network\n",
        "model = NeuralNetwork(input_size, hidden_size, output_size)\n",
        "\n",
        "# Define the loss function and the optimizer\n",
        "criterion = nn.MSELoss()\n",
        "optimizer = optim.SGD(model.parameters(), lr=learning_rate)\n",
        "\n",
        "# Example data\n",
        "x_train = torch.tensor([[1.0, 2.0, 3.0], [4.0, 5.0, 6.0], [7.0, 8.0, 9.0]])\n",
        "y_train = torch.tensor([[2.0], [5.0], [8.0]])\n",
        "\n",
        "# Training loop\n",
        "num_epochs = 100\n",
        "for epoch in range(num_epochs):\n",
        "    # Forward pass\n",
        "    outputs = model(x_train)\n",
        "    loss = criterion(outputs, y_train)\n",
        "\n",
        "    # Backward pass and optimization\n",
        "    optimizer.zero_grad()\n",
        "    loss.backward()\n",
        "    optimizer.step()\n",
        "\n",
        "    if (epoch+1) % 10 == 0:\n",
        "        print(f'Epoch [{epoch+1}/{num_epochs}], Loss: {loss.item():.4f}')\n",
        "\n",
        "# Test the model\n",
        "with torch.no_grad():\n",
        "    y_pred = model(x_train)\n",
        "    print(\"Feedforward Output:\")\n",
        "    print(y_pred)\n",
        "    print(\"Backpropagation Values:\")\n",
        "    for name, param in model.named_parameters():\n",
        "        if param.requires_grad:\n",
        "            print(name, param.grad)\n"
      ]
    },
    {
      "cell_type": "code",
      "execution_count": null,
      "metadata": {
        "id": "IAYje5hOBIjV",
        "outputId": "ea031725-48c4-4461-d71f-6da273e7ea71"
      },
      "outputs": [
        {
          "name": "stdout",
          "output_type": "stream",
          "text": [
            "Downloading data from https://www.cs.toronto.edu/~kriz/cifar-10-python.tar.gz\n",
            "170500096/170498071 [==============================] - 3029s 18us/step\n",
            "Epoch 1/10\n",
            "1563/1563 [==============================] - 14s 3ms/step - loss: 1.4918 - accuracy: 0.4582 - val_loss: 1.2818 - val_accuracy: 0.5475\n",
            "Epoch 2/10\n",
            "1563/1563 [==============================] - 5s 3ms/step - loss: 1.1254 - accuracy: 0.6046 - val_loss: 1.0680 - val_accuracy: 0.6263\n",
            "Epoch 3/10\n",
            "1563/1563 [==============================] - 5s 3ms/step - loss: 0.9586 - accuracy: 0.6622 - val_loss: 0.8930 - val_accuracy: 0.6923\n",
            "Epoch 4/10\n",
            "1563/1563 [==============================] - 5s 3ms/step - loss: 0.8530 - accuracy: 0.7006 - val_loss: 0.8970 - val_accuracy: 0.6863\n",
            "Epoch 5/10\n",
            "1563/1563 [==============================] - 5s 3ms/step - loss: 0.7823 - accuracy: 0.7249 - val_loss: 0.8703 - val_accuracy: 0.6997\n",
            "Epoch 6/10\n",
            "1563/1563 [==============================] - 5s 3ms/step - loss: 0.7206 - accuracy: 0.7458 - val_loss: 0.8502 - val_accuracy: 0.7067\n",
            "Epoch 7/10\n",
            "1563/1563 [==============================] - 5s 3ms/step - loss: 0.6685 - accuracy: 0.7626 - val_loss: 0.8513 - val_accuracy: 0.7054\n",
            "Epoch 8/10\n",
            "1563/1563 [==============================] - 6s 4ms/step - loss: 0.6181 - accuracy: 0.7828 - val_loss: 0.8344 - val_accuracy: 0.7184\n",
            "Epoch 9/10\n",
            "1563/1563 [==============================] - 8s 5ms/step - loss: 0.5715 - accuracy: 0.7981 - val_loss: 0.8773 - val_accuracy: 0.7091\n",
            "Epoch 10/10\n",
            "1563/1563 [==============================] - 6s 4ms/step - loss: 0.5329 - accuracy: 0.8115 - val_loss: 0.8607 - val_accuracy: 0.7155\n",
            "313/313 - 0s - loss: 0.8607 - accuracy: 0.7155\n",
            "\n",
            "Test accuracy: 0.715499997138977\n"
          ]
        },
        {
          "data": {
            "image/png": "[encoded data removed]",
            "text/plain": [
              "<Figure size 640x480 with 1 Axes>"
            ]
          },
          "metadata": {},
          "output_type": "display_data"
        }
      ],
      "source": [
        "import tensorflow as tf\n",
        "from tensorflow.keras import datasets, layers, models\n",
        "import matplotlib.pyplot as plt\n",
        "\n",
        "# Load and preprocess your dataset\n",
        "(train_images, train_labels), (test_images, test_labels) = datasets.cifar10.load_data()\n",
        "train_images, test_images = train_images / 255.0, test_images / 255.0\n",
        "\n",
        "# Define the CNN model\n",
        "model = models.Sequential()\n",
        "model.add(layers.Conv2D(32, (3, 3), activation='relu', input_shape=(32, 32, 3)))\n",
        "model.add(layers.MaxPooling2D((2, 2)))\n",
        "model.add(layers.Conv2D(64, (3, 3), activation='relu'))\n",
        "model.add(layers.MaxPooling2D((2, 2)))\n",
        "model.add(layers.Conv2D(64, (3, 3), activation='relu'))\n",
        "model.add(layers.Flatten())\n",
        "model.add(layers.Dense(64, activation='relu'))\n",
        "model.add(layers.Dense(10))\n",
        "\n",
        "# Compile the model\n",
        "model.compile(optimizer='adam',\n",
        "              loss=tf.keras.losses.SparseCategoricalCrossentropy(from_logits=True),\n",
        "              metrics=['accuracy'])\n",
        "\n",
        "# Train the model\n",
        "history = model.fit(train_images, train_labels, epochs=10,\n",
        "                    validation_data=(test_images, test_labels))\n",
        "\n",
        "# Evaluate the model\n",
        "test_loss, test_acc = model.evaluate(test_images,  test_labels, verbose=2)\n",
        "print('\\nTest accuracy:', test_acc)\n",
        "\n",
        "# Plot training & validation accuracy values\n",
        "plt.plot(history.history['accuracy'])\n",
        "plt.plot(history.history['val_accuracy'])\n",
        "plt.title('Model accuracy')\n",
        "plt.ylabel('Accuracy')\n",
        "plt.xlabel('Epoch')\n",
        "plt.legend(['Train', 'Test'], loc='upper left')\n",
        "plt.show()\n"
      ]
    },
    {
      "cell_type": "markdown",
      "metadata": {
        "id": "cxkjFGcDBIjV"
      },
      "source": [
        "## Recurrent Neural Networks (RNNs)"
      ]
    },
    {
      "cell_type": "code",
      "execution_count": null,
      "metadata": {
        "id": "YjqvfLiPBIjV",
        "outputId": "0cd2cc11-0999-4fcc-fbe3-6b173d17b889"
      },
      "outputs": [
        {
          "name": "stdout",
          "output_type": "stream",
          "text": [
            "Epoch 1/10\n",
            "32/32 [==============================] - 1s 7ms/step - loss: 0.7121 - accuracy: 0.5230\n",
            "Epoch 2/10\n",
            "32/32 [==============================] - 0s 7ms/step - loss: 0.6896 - accuracy: 0.5410\n",
            "Epoch 3/10\n",
            "32/32 [==============================] - 0s 7ms/step - loss: 0.6770 - accuracy: 0.5920\n",
            "Epoch 4/10\n",
            "32/32 [==============================] - 0s 7ms/step - loss: 0.6760 - accuracy: 0.5730\n",
            "Epoch 5/10\n",
            "32/32 [==============================] - 0s 8ms/step - loss: 0.6697 - accuracy: 0.5980\n",
            "Epoch 6/10\n",
            "32/32 [==============================] - 0s 8ms/step - loss: 0.6435 - accuracy: 0.6330\n",
            "Epoch 7/10\n",
            "32/32 [==============================] - 0s 8ms/step - loss: 0.6267 - accuracy: 0.6530\n",
            "Epoch 8/10\n",
            "32/32 [==============================] - 0s 9ms/step - loss: 0.6104 - accuracy: 0.6690\n",
            "Epoch 9/10\n",
            "32/32 [==============================] - 0s 9ms/step - loss: 0.5843 - accuracy: 0.6940\n",
            "Epoch 10/10\n",
            "32/32 [==============================] - 0s 9ms/step - loss: 0.5574 - accuracy: 0.7240\n",
            "32/32 [==============================] - 0s 3ms/step - loss: 0.5212 - accuracy: 0.7570\n",
            "Loss: 0.5212295055389404\n",
            "Accuracy: 0.7570000290870667\n"
          ]
        }
      ],
      "source": [
        "import tensorflow as tf\n",
        "from tensorflow.keras.models import Sequential\n",
        "from tensorflow.keras.layers import SimpleRNN, Dense\n",
        "\n",
        "# Generate sample data\n",
        "import numpy as np\n",
        "X_train = np.random.random((1000, 10, 64))  # 1000 samples, 10 time steps, 64 features\n",
        "y_train = np.random.randint(2, size=(1000, 1))  # 1000 samples, binary target\n",
        "\n",
        "# Define the RNN model\n",
        "model = Sequential()\n",
        "model.add(SimpleRNN(50, input_shape=(10, 64)))  # 50 units, 10 time steps, 64 features\n",
        "model.add(Dense(1, activation='sigmoid'))  # Output layer\n",
        "\n",
        "# Compile the model\n",
        "model.compile(loss='binary_crossentropy', optimizer='adam', metrics=['accuracy'])\n",
        "\n",
        "# Train the model\n",
        "model.fit(X_train, y_train, epochs=10, batch_size=32)\n",
        "\n",
        "# Evaluate the model\n",
        "loss, accuracy = model.evaluate(X_train, y_train)\n",
        "print('Loss:', loss)\n",
        "print('Accuracy:', accuracy)\n"
      ]
    },
    {
      "cell_type": "code",
      "execution_count": null,
      "metadata": {
        "id": "y-dPDZDwBIjW"
      },
      "outputs": [],
      "source": []
    }
  ],
  "metadata": {
    "kernelspec": {
      "display_name": "data",
      "language": "python",
      "name": "python3"
    },
    "language_info": {
      "codemirror_mode": {
        "name": "ipython",
        "version": 3
      },
      "file_extension": ".py",
      "mimetype": "text/x-python",
      "name": "python",
      "nbconvert_exporter": "python",
      "pygments_lexer": "ipython3",
      "version": "3.9.16"
    },
    "colab": {
      "provenance": []
    }
  },
  "nbformat": 4,
  "nbformat_minor": 0
}